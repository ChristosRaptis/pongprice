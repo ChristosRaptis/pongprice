{
 "cells": [
  {
   "cell_type": "code",
   "execution_count": 16,
   "metadata": {},
   "outputs": [],
   "source": [
    "import httpx\n",
    "import asyncio\n",
    "from bs4 import BeautifulSoup as bs\n",
    "from selenium import webdriver\n",
    "from selenium.webdriver.common.by import By"
   ]
  },
  {
   "cell_type": "code",
   "execution_count": 17,
   "metadata": {},
   "outputs": [],
   "source": [
    "multimedia_url = \"https://www.mediamarkt.be/fr/category/_ordinateur-multim%C3%A9dia-452669.html\"\n",
    "phones_url = \"https://www.mediamarkt.be/fr/category/_t%C3%A9l%C3%A9phone-navigation-509451.html\"\n"
   ]
  },
  {
   "cell_type": "code",
   "execution_count": 23,
   "metadata": {},
   "outputs": [
    {
     "ename": "ElementClickInterceptedException",
     "evalue": "Message: element click intercepted: Element <button type=\"button\" aria-disabled=\"false\" class=\"sc-21f2092b-1 bEkkuF\" translate=\"no\" aria-expanded=\"false\" aria-hidden=\"true\" aria-controls=\"floating-ui-5\">...</button> is not clickable at point (109, 505). Other element would receive the click: <div class=\"sc-eab1eb50-1 fruHiW\"></div>\n  (Session info: MicrosoftEdge=117.0.2045.40)\nStacktrace:\n0   msedgedriver                        0x000000010266fa30 msedgedriver + 4160048\n1   msedgedriver                        0x0000000102667af0 msedgedriver + 4127472\n2   msedgedriver                        0x00000001022b1338 msedgedriver + 234296\n3   msedgedriver                        0x00000001022ed474 msedgedriver + 480372\n4   msedgedriver                        0x00000001022ec1c4 msedgedriver + 475588\n5   msedgedriver                        0x00000001022eaa70 msedgedriver + 469616\n6   msedgedriver                        0x00000001022ea2ec msedgedriver + 467692\n7   msedgedriver                        0x00000001022e27e0 msedgedriver + 436192\n8   msedgedriver                        0x00000001022e2250 msedgedriver + 434768\n9   msedgedriver                        0x0000000102315650 msedgedriver + 644688\n10  msedgedriver                        0x00000001022e0d04 msedgedriver + 429316\n11  msedgedriver                        0x00000001022e1bb8 msedgedriver + 433080\n12  msedgedriver                        0x000000010263e090 msedgedriver + 3956880\n13  msedgedriver                        0x00000001026416ec msedgedriver + 3970796\n14  msedgedriver                        0x00000001026411dc msedgedriver + 3969500\n15  msedgedriver                        0x0000000102646520 msedgedriver + 3990816\n16  msedgedriver                        0x0000000102641d9c msedgedriver + 3972508\n17  msedgedriver                        0x000000010262463c msedgedriver + 3851836\n18  msedgedriver                        0x000000010265949c msedgedriver + 4068508\n19  msedgedriver                        0x00000001026595c8 msedgedriver + 4068808\n20  msedgedriver                        0x0000000102666d7c msedgedriver + 4124028\n21  libsystem_pthread.dylib             0x0000000183a83fa8 _pthread_start + 148\n22  libsystem_pthread.dylib             0x0000000183a7eda0 thread_start + 8\n",
     "output_type": "error",
     "traceback": [
      "\u001b[0;31m---------------------------------------------------------------------------\u001b[0m",
      "\u001b[0;31mElementClickInterceptedException\u001b[0m          Traceback (most recent call last)",
      "\u001b[1;32m/Users/chris/Becode/Projects/pongprice/scrapers/mediamarkt_scraper.ipynb Cell 3\u001b[0m line \u001b[0;36m7\n\u001b[1;32m      <a href='vscode-notebook-cell:/Users/chris/Becode/Projects/pongprice/scrapers/mediamarkt_scraper.ipynb#W5sZmlsZQ%3D%3D?line=0'>1</a>\u001b[0m driver \u001b[39m=\u001b[39m webdriver\u001b[39m.\u001b[39mEdge()\n\u001b[1;32m      <a href='vscode-notebook-cell:/Users/chris/Becode/Projects/pongprice/scrapers/mediamarkt_scraper.ipynb#W5sZmlsZQ%3D%3D?line=3'>4</a>\u001b[0m driver\u001b[39m.\u001b[39mget(multimedia_url)\n\u001b[0;32m----> <a href='vscode-notebook-cell:/Users/chris/Becode/Projects/pongprice/scrapers/mediamarkt_scraper.ipynb#W5sZmlsZQ%3D%3D?line=6'>7</a>\u001b[0m driver\u001b[39m.\u001b[39;49mfind_element(By\u001b[39m.\u001b[39;49mXPATH, \u001b[39m'\u001b[39;49m\u001b[39m//button[contains(@class, \u001b[39;49m\u001b[39m\"\u001b[39;49m\u001b[39msc-21f2092b-1 bEkkuF\u001b[39;49m\u001b[39m\"\u001b[39;49m\u001b[39m)]\u001b[39;49m\u001b[39m'\u001b[39;49m)\u001b[39m.\u001b[39;49mclick()\n\u001b[1;32m      <a href='vscode-notebook-cell:/Users/chris/Becode/Projects/pongprice/scrapers/mediamarkt_scraper.ipynb#W5sZmlsZQ%3D%3D?line=7'>8</a>\u001b[0m \u001b[39mprint\u001b[39m(\u001b[39m\"\u001b[39m\u001b[39mButton clicked\u001b[39m\u001b[39m\"\u001b[39m)\n\u001b[1;32m     <a href='vscode-notebook-cell:/Users/chris/Becode/Projects/pongprice/scrapers/mediamarkt_scraper.ipynb#W5sZmlsZQ%3D%3D?line=9'>10</a>\u001b[0m driver\u001b[39m.\u001b[39mquit()\n",
      "File \u001b[0;32m~/Becode/Projects/pongprice/pong_env/lib/python3.11/site-packages/selenium/webdriver/remote/webelement.py:93\u001b[0m, in \u001b[0;36mWebElement.click\u001b[0;34m(self)\u001b[0m\n\u001b[1;32m     91\u001b[0m \u001b[39mdef\u001b[39;00m \u001b[39mclick\u001b[39m(\u001b[39mself\u001b[39m) \u001b[39m-\u001b[39m\u001b[39m>\u001b[39m \u001b[39mNone\u001b[39;00m:\n\u001b[1;32m     92\u001b[0m \u001b[39m    \u001b[39m\u001b[39m\"\"\"Clicks the element.\"\"\"\u001b[39;00m\n\u001b[0;32m---> 93\u001b[0m     \u001b[39mself\u001b[39;49m\u001b[39m.\u001b[39;49m_execute(Command\u001b[39m.\u001b[39;49mCLICK_ELEMENT)\n",
      "File \u001b[0;32m~/Becode/Projects/pongprice/pong_env/lib/python3.11/site-packages/selenium/webdriver/remote/webelement.py:394\u001b[0m, in \u001b[0;36mWebElement._execute\u001b[0;34m(self, command, params)\u001b[0m\n\u001b[1;32m    392\u001b[0m     params \u001b[39m=\u001b[39m {}\n\u001b[1;32m    393\u001b[0m params[\u001b[39m\"\u001b[39m\u001b[39mid\u001b[39m\u001b[39m\"\u001b[39m] \u001b[39m=\u001b[39m \u001b[39mself\u001b[39m\u001b[39m.\u001b[39m_id\n\u001b[0;32m--> 394\u001b[0m \u001b[39mreturn\u001b[39;00m \u001b[39mself\u001b[39;49m\u001b[39m.\u001b[39;49m_parent\u001b[39m.\u001b[39;49mexecute(command, params)\n",
      "File \u001b[0;32m~/Becode/Projects/pongprice/pong_env/lib/python3.11/site-packages/selenium/webdriver/remote/webdriver.py:344\u001b[0m, in \u001b[0;36mWebDriver.execute\u001b[0;34m(self, driver_command, params)\u001b[0m\n\u001b[1;32m    342\u001b[0m response \u001b[39m=\u001b[39m \u001b[39mself\u001b[39m\u001b[39m.\u001b[39mcommand_executor\u001b[39m.\u001b[39mexecute(driver_command, params)\n\u001b[1;32m    343\u001b[0m \u001b[39mif\u001b[39;00m response:\n\u001b[0;32m--> 344\u001b[0m     \u001b[39mself\u001b[39;49m\u001b[39m.\u001b[39;49merror_handler\u001b[39m.\u001b[39;49mcheck_response(response)\n\u001b[1;32m    345\u001b[0m     response[\u001b[39m\"\u001b[39m\u001b[39mvalue\u001b[39m\u001b[39m\"\u001b[39m] \u001b[39m=\u001b[39m \u001b[39mself\u001b[39m\u001b[39m.\u001b[39m_unwrap_value(response\u001b[39m.\u001b[39mget(\u001b[39m\"\u001b[39m\u001b[39mvalue\u001b[39m\u001b[39m\"\u001b[39m, \u001b[39mNone\u001b[39;00m))\n\u001b[1;32m    346\u001b[0m     \u001b[39mreturn\u001b[39;00m response\n",
      "File \u001b[0;32m~/Becode/Projects/pongprice/pong_env/lib/python3.11/site-packages/selenium/webdriver/remote/errorhandler.py:229\u001b[0m, in \u001b[0;36mErrorHandler.check_response\u001b[0;34m(self, response)\u001b[0m\n\u001b[1;32m    227\u001b[0m         alert_text \u001b[39m=\u001b[39m value[\u001b[39m\"\u001b[39m\u001b[39malert\u001b[39m\u001b[39m\"\u001b[39m]\u001b[39m.\u001b[39mget(\u001b[39m\"\u001b[39m\u001b[39mtext\u001b[39m\u001b[39m\"\u001b[39m)\n\u001b[1;32m    228\u001b[0m     \u001b[39mraise\u001b[39;00m exception_class(message, screen, stacktrace, alert_text)  \u001b[39m# type: ignore[call-arg]  # mypy is not smart enough here\u001b[39;00m\n\u001b[0;32m--> 229\u001b[0m \u001b[39mraise\u001b[39;00m exception_class(message, screen, stacktrace)\n",
      "\u001b[0;31mElementClickInterceptedException\u001b[0m: Message: element click intercepted: Element <button type=\"button\" aria-disabled=\"false\" class=\"sc-21f2092b-1 bEkkuF\" translate=\"no\" aria-expanded=\"false\" aria-hidden=\"true\" aria-controls=\"floating-ui-5\">...</button> is not clickable at point (109, 505). Other element would receive the click: <div class=\"sc-eab1eb50-1 fruHiW\"></div>\n  (Session info: MicrosoftEdge=117.0.2045.40)\nStacktrace:\n0   msedgedriver                        0x000000010266fa30 msedgedriver + 4160048\n1   msedgedriver                        0x0000000102667af0 msedgedriver + 4127472\n2   msedgedriver                        0x00000001022b1338 msedgedriver + 234296\n3   msedgedriver                        0x00000001022ed474 msedgedriver + 480372\n4   msedgedriver                        0x00000001022ec1c4 msedgedriver + 475588\n5   msedgedriver                        0x00000001022eaa70 msedgedriver + 469616\n6   msedgedriver                        0x00000001022ea2ec msedgedriver + 467692\n7   msedgedriver                        0x00000001022e27e0 msedgedriver + 436192\n8   msedgedriver                        0x00000001022e2250 msedgedriver + 434768\n9   msedgedriver                        0x0000000102315650 msedgedriver + 644688\n10  msedgedriver                        0x00000001022e0d04 msedgedriver + 429316\n11  msedgedriver                        0x00000001022e1bb8 msedgedriver + 433080\n12  msedgedriver                        0x000000010263e090 msedgedriver + 3956880\n13  msedgedriver                        0x00000001026416ec msedgedriver + 3970796\n14  msedgedriver                        0x00000001026411dc msedgedriver + 3969500\n15  msedgedriver                        0x0000000102646520 msedgedriver + 3990816\n16  msedgedriver                        0x0000000102641d9c msedgedriver + 3972508\n17  msedgedriver                        0x000000010262463c msedgedriver + 3851836\n18  msedgedriver                        0x000000010265949c msedgedriver + 4068508\n19  msedgedriver                        0x00000001026595c8 msedgedriver + 4068808\n20  msedgedriver                        0x0000000102666d7c msedgedriver + 4124028\n21  libsystem_pthread.dylib             0x0000000183a83fa8 _pthread_start + 148\n22  libsystem_pthread.dylib             0x0000000183a7eda0 thread_start + 8\n"
     ]
    }
   ],
   "source": [
    "driver = webdriver.Edge()\n",
    "\n",
    "\n",
    "driver.get(multimedia_url)\n",
    "\n",
    "\n",
    "driver.find_element(By.XPATH, '//button[contains(@class, \"sc-21f2092b-1 bEkkuF\")]').click()\n",
    "print(\"Button clicked\")\n",
    "\n",
    "driver.quit()"
   ]
  },
  {
   "cell_type": "code",
   "execution_count": null,
   "metadata": {},
   "outputs": [],
   "source": []
  },
  {
   "cell_type": "code",
   "execution_count": 14,
   "metadata": {},
   "outputs": [
    {
     "name": "stdout",
     "output_type": "stream",
     "text": [
      "4\n"
     ]
    },
    {
     "data": {
      "text/plain": [
       "[<a class=\"sc-db43135e-0 bjnEhE\" href=\"https://www.mediamarkt.be/fr/category/_pc-portables-509443.html\" target=\"_self\"><span class=\"sc-f1f881c4-0 wSOtu sc-9852af2b-0 iAoLyn\" color=\"currentColor\" font-family=\"default\" font-size=\"sm\">PC portables</span></a>,\n",
       " <a class=\"sc-db43135e-0 bjnEhE\" href=\"https://www.mediamarkt.be/fr/category/_tablettes-501304.html\" target=\"_self\"><span class=\"sc-f1f881c4-0 wSOtu sc-9852af2b-0 iAoLyn\" color=\"currentColor\" font-family=\"default\" font-size=\"sm\">Tablettes</span></a>,\n",
       " <a class=\"sc-db43135e-0 bjnEhE\" href=\"https://www.mediamarkt.be/fr/category/_tour-pc-501353.html\" target=\"_self\"><span class=\"sc-f1f881c4-0 wSOtu sc-9852af2b-0 iAoLyn\" color=\"currentColor\" font-family=\"default\" font-size=\"sm\">Tour PC</span></a>,\n",
       " <a class=\"sc-db43135e-0 bjnEhE\" href=\"https://www.mediamarkt.be/fr/category/_moniteurs-509442.html\" target=\"_self\"><span class=\"sc-f1f881c4-0 wSOtu sc-9852af2b-0 iAoLyn\" color=\"currentColor\" font-family=\"default\" font-size=\"sm\">Moniteurs</span></a>]"
      ]
     },
     "execution_count": 14,
     "metadata": {},
     "output_type": "execute_result"
    }
   ],
   "source": [
    "multimedia_response = httpx.get(multimedia_url)\n",
    "multimedia_soup = bs(multimedia_response.content)\n",
    "categories_list = multimedia_soup.find(\"ul\", attrs={\"class\" : \"sc-f8ab370f-0 eQVmAI sc-1c9445fc-8 kfVToE\"})\n",
    "categories = categories_list.find_all(\"a\", attrs={\"class\" : \"sc-db43135e-0 bjnEhE\"})\n",
    "print(len(categories))\n",
    "categories"
   ]
  }
 ],
 "metadata": {
  "kernelspec": {
   "display_name": "pong_env",
   "language": "python",
   "name": "python3"
  },
  "language_info": {
   "codemirror_mode": {
    "name": "ipython",
    "version": 3
   },
   "file_extension": ".py",
   "mimetype": "text/x-python",
   "name": "python",
   "nbconvert_exporter": "python",
   "pygments_lexer": "ipython3",
   "version": "3.11.4"
  },
  "orig_nbformat": 4
 },
 "nbformat": 4,
 "nbformat_minor": 2
}
