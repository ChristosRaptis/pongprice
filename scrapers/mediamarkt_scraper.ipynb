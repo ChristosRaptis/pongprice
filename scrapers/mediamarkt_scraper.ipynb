{
 "cells": [
  {
   "cell_type": "code",
   "execution_count": 7,
   "metadata": {},
   "outputs": [],
   "source": [
    "import asyncio\n",
    "import playwright as pt\n",
    "from bs4 import BeautifulSoup as bs\n",
    "import requests"
   ]
  },
  {
   "cell_type": "code",
   "execution_count": 8,
   "metadata": {},
   "outputs": [],
   "source": [
    "multimedia_url = \"https://www.mediamarkt.be/fr/category/_ordinateur-multim%C3%A9dia-452669.html\"\n",
    "phones_url = \"https://www.mediamarkt.be/fr/category/_t%C3%A9l%C3%A9phone-navigation-509451.html\"\n"
   ]
  },
  {
   "cell_type": "code",
   "execution_count": 10,
   "metadata": {},
   "outputs": [
    {
     "name": "stdout",
     "output_type": "stream",
     "text": [
      "<class 'bs4.BeautifulSoup'>\n",
      "<class 'NoneType'>\n"
     ]
    }
   ],
   "source": [
    "response = requests.get(multimedia_url)\n",
    "soup = bs(response.content, \"html.parser\")\n",
    "print(type(soup))\n",
    "category = soup.find(\"ul\", attrs={\"class\": \"sc-f8ab370f-0 eQVmAI sc-1c9445fc-8 kfVToE\"})\n",
    "print(type(category))"
   ]
  }
 ],
 "metadata": {
  "kernelspec": {
   "display_name": "pong_env",
   "language": "python",
   "name": "python3"
  },
  "language_info": {
   "codemirror_mode": {
    "name": "ipython",
    "version": 3
   },
   "file_extension": ".py",
   "mimetype": "text/x-python",
   "name": "python",
   "nbconvert_exporter": "python",
   "pygments_lexer": "ipython3",
   "version": "3.10.12"
  },
  "orig_nbformat": 4
 },
 "nbformat": 4,
 "nbformat_minor": 2
}
